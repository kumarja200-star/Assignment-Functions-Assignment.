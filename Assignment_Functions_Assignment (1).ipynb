{
  "nbformat": 4,
  "nbformat_minor": 0,
  "metadata": {
    "colab": {
      "provenance": []
    },
    "kernelspec": {
      "name": "python3",
      "display_name": "Python 3"
    },
    "language_info": {
      "name": "python"
    }
  },
  "cells": [
    {
      "cell_type": "markdown",
      "source": [
        "**Theory Questions:**\n"
      ],
      "metadata": {
        "id": "jB9VAsPthnft"
      }
    },
    {
      "cell_type": "markdown",
      "source": [
        "1. What is the difference between a function and a method in Python?\n",
        " - Function A function is a block of code that does a specific task. It is defined using def and can be used anywhere in the program. A function does not belong to any object.\n",
        " -  Method A method is also a function, but it belongs to an object (like a string, list, or a class). You call it using the . (dot) operator on the object."
      ],
      "metadata": {
        "id": "9OJ-n4ksh1nr"
      }
    },
    {
      "cell_type": "code",
      "source": [
        "def add(a, b): #Example function\n",
        "    return a + b\n",
        "\n",
        "print(add(5, 3))\n"
      ],
      "metadata": {
        "colab": {
          "base_uri": "https://localhost:8080/"
        },
        "id": "_Su1hxodikwC",
        "outputId": "ad95a75e-7ce7-45b9-b5a8-413496029506"
      },
      "execution_count": null,
      "outputs": [
        {
          "output_type": "stream",
          "name": "stdout",
          "text": [
            "8\n"
          ]
        }
      ]
    },
    {
      "cell_type": "code",
      "execution_count": null,
      "metadata": {
        "colab": {
          "base_uri": "https://localhost:8080/"
        },
        "id": "bonRvLPhhigi",
        "outputId": "35af9d35-33e4-4931-ddf6-72a3e071120b"
      },
      "outputs": [
        {
          "output_type": "stream",
          "name": "stdout",
          "text": [
            "HELLO WORLD\n"
          ]
        }
      ],
      "source": [
        "text = \"hello world\" #Example Method\n",
        "print(text.upper()) # .upper() is a method\n"
      ]
    },
    {
      "cell_type": "markdown",
      "source": [
        "2. Explain the concept of function arguments and parameters in Python.\n",
        " - Parameters\n",
        "             Parameters are the names we write inside the parentheses when we define a function.\n",
        "\n",
        "             They act like placeholders or variables that will receive values.\n",
        "\n",
        "- Arguments\n",
        "             Arguments are the actual values we give to the function when we call it.          "
      ],
      "metadata": {
        "id": "NWhY0k3iyTkH"
      }
    },
    {
      "cell_type": "code",
      "source": [
        "#example 1\n",
        "def greet(name, age):   # 'name' and 'age' are PARAMETERS\n",
        "    print(\"Hello\", name, \"you are\", age, \"years old\")\n",
        "#example2\n",
        "greet(\"Jay\", 21)   # \"Jay\" and 21 are ARGUMENTS\n",
        "\n"
      ],
      "metadata": {
        "id": "tDLsM4tVzS8M"
      },
      "execution_count": null,
      "outputs": []
    },
    {
      "cell_type": "markdown",
      "source": [
        "3. What are the different ways to define and call a function in Python?"
      ],
      "metadata": {
        "id": "zt1rRTZwzwOg"
      }
    },
    {
      "cell_type": "code",
      "source": [
        "#1. Simple Function (No Parameters, No Return Value)\n",
        "\n",
        "def say_hello():    # defining\n",
        "    print(\"Hello, welcome to Python!\")\n",
        "\n",
        "say_hello()   # calling\n",
        "\n",
        "#2. Function with Parameters\n",
        "\n",
        "def greet(name):   # parameter\n",
        "    print(\"Hello\", name)\n",
        "\n",
        "greet(\"Jay\")       # calling with argument\n",
        "\n",
        "#3. Function with Multiple Parameters\n",
        "\n",
        "def add(a, b):\n",
        "    print(\"Sum is:\", a + b)\n",
        "\n",
        "add(5, 3)   # calling with 2 arguments\n",
        "\n",
        "#4. Function with Return Value\n",
        "\n",
        "def square(num):\n",
        "    return num * num\n",
        "\n",
        "result = square(4)   # calling\n",
        "print(result)        # 16\n",
        "\n",
        "#5. Function with Default Parameters\n",
        "\n",
        "def greet(name=\"Guest\"):\n",
        "    print(\"Hello\", name)\n",
        "\n",
        "greet()         # uses default → Hello Guest\n",
        "greet(\"Ravi\")   # Hello Ravi\n",
        "\n",
        "#6. Keyword Arguments\n",
        "\n",
        "def intro(name, age):\n",
        "    print(\"Name:\", name, \"Age:\", age)\n",
        "\n",
        "intro(age=21, name=\"Jay\")\n",
        "\n",
        "#7. Variable-Length Arguments\n",
        "(a) *args → for many values (tuple form)\n",
        "def add_all(*numbers):\n",
        "    print(sum(numbers))\n",
        "\n",
        "add_all(2, 4, 6, 8)\n",
        "\n",
        "(b) **kwargs → for many key-value pairs (dictionary form)\n",
        "def show_info(**details):\n",
        "    print(details)\n",
        "\n",
        "show_info(name=\"Jay\", age=21, city=\"Delhi\")\n",
        "\n",
        "#8. Lambda Function (Anonymous Function)\n",
        "\n",
        "square = lambda x: x * x"
      ],
      "metadata": {
        "id": "zHArPK-50Ob-"
      },
      "execution_count": null,
      "outputs": []
    },
    {
      "cell_type": "markdown",
      "source": [
        "4.  What is the purpose of the `return` statement in a Python function?\n",
        "- The return statement is used in a function to send a value back to the place where the function was called.\n",
        "\n",
        "  *  Without return → the function just does a task (like printing).\n",
        "  *  With return → the function gives back a result that you can store or use later.\n"
      ],
      "metadata": {
        "id": "O3YqIYGJ01go"
      }
    },
    {
      "cell_type": "code",
      "source": [
        "# Example\n",
        "def add(a, b):\n",
        "    print(a + b)   # only prints result\n",
        "\n",
        "add(5, 3)          # Output: 8\n",
        "result = add(5, 3) # result = None (nothing returned)\n"
      ],
      "metadata": {
        "id": "yklvXa1c1biY"
      },
      "execution_count": null,
      "outputs": []
    },
    {
      "cell_type": "markdown",
      "source": [
        "5. What are iterators in Python and how do they differ from iterables?\n",
        "- Iterable\n",
        "\n",
        "    An iterable is any Python object that can be looped over (used in a for loop)\n",
        "    Examples: list, tuple, string, set, dictionary.\n",
        "\n",
        "    It has a method __iter__() that returns an iterator.\n",
        "- Iterator\n",
        "    An iterator is an object that gives one value at a time when you call next() on it.\n",
        "    It remembers where it left off.\n",
        "    It has two special methods:\n",
        "     __iter__() → returns the iterator object itself\n",
        "     __next__() → returns the next element    "
      ],
      "metadata": {
        "id": "QLZ8noLh1gZj"
      }
    },
    {
      "cell_type": "markdown",
      "source": [],
      "metadata": {
        "id": "LXDbhpmx2J9_"
      }
    },
    {
      "cell_type": "markdown",
      "source": [
        "6. Explain the concept of generators in Python and how they are defined?\n",
        "  - A generator is a special type of function that produces values one at a time instead of returning them all at once.\n",
        "    It is a type of iterator.\n",
        "    Instead of using return, a generator uses the yield keyword.\n",
        "- Why use Generators.\n",
        "    They save memory because they don’t store all items at once.\n",
        "    They are useful for working with large datasets or infinite sequences.\n",
        "- How to Define a Generator\n",
        "    Use def keyword (like normal function).\n",
        "    Use yield instead of return.\n",
        "    When called, it returns a generator object (an iterator)."
      ],
      "metadata": {
        "id": "jVq5ZLB9XoLf"
      }
    },
    {
      "cell_type": "markdown",
      "source": [
        "7. What are the advantages of using generators over regular functions?\n",
        " - Advantages of Generators over Regular Functions\n",
        "    1. Memory Efficiency\n",
        "      Regular functions (that return lists) create and store the entire list in memory.\n",
        "      Generators produce values one at a time, so they don’t need to keep the whole sequence in memory.\n",
        "\n",
        "    2. Lazy Evaluation (on demand)\n",
        "       Generators only compute the next value when needed.\n",
        "       This is useful for working with large or even infinite sequences.\n",
        "     \n",
        "    3. Improved Performance\n",
        "        Since values are generated one by one, generators are usually faster when dealing with big datasets.\n",
        "        They avoid the overhead of creating and storing large lists.\n",
        "    4. Clean and Simple Code\n",
        "         Generators let you write iterators easily using yield.\n",
        "         Without generators, you’d need to write a class with __iter__() and __next__().\n",
        "    5. Can be Used in Loops Directly\n",
        "          Generators can be directly used in for loops.\n",
        "          You don’t need to manually handle StopIteration."
      ],
      "metadata": {
        "id": "1xIXmtY9YdVP"
      }
    },
    {
      "cell_type": "code",
      "source": [
        "#Example1\n",
        "def numbers_list(n):\n",
        "    return [i for i in range(n)]   # stores whole list in memory\n",
        "\n",
        "def numbers_gen(n):\n",
        "    for i in range(n):\n",
        "        yield i   # yields one value at a time\n",
        "#Example2\n",
        "def infinite_numbers():\n",
        "    n = 0\n",
        "    while True:\n",
        "        yield n\n",
        "        n += 1\n",
        "\n",
        "gen = infinite_numbers()\n",
        "print(next(gen))  # 0\n",
        "print(next(gen))  # 1\n",
        "print(next(gen))  # 2\n",
        "\n",
        "#Example3\n",
        "# Generator way (simple)\n",
        "def squares(n):\n",
        "    for i in range(n):\n",
        "        yield i * i\n",
        "\n",
        "#Example4\n",
        "for num in numbers_gen(5):\n",
        "    print(num)\n"
      ],
      "metadata": {
        "id": "H_xq3fTMZjee"
      },
      "execution_count": null,
      "outputs": []
    },
    {
      "cell_type": "markdown",
      "source": [
        "8. What is a lambda function in Python and when is it typically used?\n",
        " - Lambda Function in Python\n",
        "    A lambda function is a small, anonymous (nameless) function in Python.\n",
        "    It is created using the keyword lambda.\n",
        "    It can have any number of arguments but only one expression."
      ],
      "metadata": {
        "id": "tmnPzf7BZ8pi"
      }
    },
    {
      "cell_type": "code",
      "source": [
        "# Example Normal function and lambada function\n",
        " #Normal Function\n",
        " def square(x):\n",
        "    return x * x\n",
        "\n",
        "print(square(5))   # 25\n",
        "#Lambada Function\n",
        "square = lambda x: x * x\n",
        "print(square(5))   # 25\n"
      ],
      "metadata": {
        "id": "20TeaOGQacrB"
      },
      "execution_count": null,
      "outputs": []
    },
    {
      "cell_type": "markdown",
      "source": [
        "9. Explain the purpose and usage of the `map()` function in Python?\n",
        " - map() Function in Python\n",
        "   Purpose\n",
        "  The map() function is used to apply a function to every item in an iterable (like list, tuple, etc.) and return a new iterable (map object).\n",
        " In simple words:\n",
        "It transforms each element of a list (or any iterable) using a function."
      ],
      "metadata": {
        "id": "YrhfBgUXa0EC"
      }
    },
    {
      "cell_type": "code",
      "source": [
        "#Example Using Normal function\n",
        "def square(x):\n",
        "    return x * x\n",
        "\n",
        "nums = [1, 2, 3, 4, 5]\n",
        "\n",
        "result = map(square, nums)\n",
        "print(list(result))   # [1, 4, 9, 16, 25]\n",
        "\n",
        "#Example Using Lambda Function\n",
        "nums = [1, 2, 3, 4, 5]\n",
        "\n",
        "result = map(lambda x: x * 2, nums)\n",
        "print(list(result))   # [2, 4, 6, 8, 10]\n",
        "\n",
        "#Example With Multiple Iterables\n",
        "nums1 = [1, 2, 3]\n",
        "nums2 = [4, 5, 6]\n",
        "\n",
        "result = map(lambda x, y: x + y, nums1, nums2)\n",
        "print(list(result))   # [5, 7, 9\n",
        "\n",
        "\n"
      ],
      "metadata": {
        "id": "N3dSxmKobOa6"
      },
      "execution_count": null,
      "outputs": []
    },
    {
      "cell_type": "markdown",
      "source": [
        "10. What is the difference between `map()`, `reduce()`, and `filter()` functions in Python?\n",
        " - 1.`map()`\n",
        "      *   (Purpose) : Applies a function to every element in an iterable\n",
        "      *   (Input) : Function + Iterable\n",
        "      *   (Output) : A new iterable with transformed values\n",
        "  2.`reduce()`\n",
        "      *   (Purpose) : Reduces an iterable into a single value by repeatedly applying a function\n",
        "      *   (Input) : Function + Iterable\n",
        "      *   (Output) : One single result\n",
        "  3. `filter()`\n",
        "      *   (Purpose) : Filters elements based on a condition (True/False)\n",
        "      *   (Input) : Function (returns bool) + Iterable\n",
        "      *   (Output) : A new iterable with only elements that passed the condition\n",
        "       \n",
        "\n",
        "\n",
        "\n",
        "\n",
        "\n",
        "      \n",
        "\n",
        "\n"
      ],
      "metadata": {
        "id": "Og_OvnsXbrLe"
      }
    },
    {
      "cell_type": "markdown",
      "source": [
        "**Practical Questions**"
      ],
      "metadata": {
        "id": "klfDnzWkePFq"
      }
    },
    {
      "cell_type": "markdown",
      "source": [
        "1. Write a Python function that takes a list of numbers as input and returns the sum of all even numbers in\n",
        "the list?\n"
      ],
      "metadata": {
        "id": "NuGvN89teTsa"
      }
    },
    {
      "cell_type": "code",
      "source": [
        "def sum_even_numbers(numbers):\n",
        "    total = 0\n",
        "    for num in numbers:\n",
        "        if num % 2 == 0:   # check if number is even\n",
        "            total += num\n",
        "    return total\n",
        "\n",
        "# Example usage\n",
        "nums = [1, 2, 3, 4, 5, 6, 10]\n",
        "print(sum_even_numbers(nums))   # Output: 22  (2+4+6+10)\n"
      ],
      "metadata": {
        "id": "02nX_R1uee5m"
      },
      "execution_count": null,
      "outputs": []
    },
    {
      "cell_type": "markdown",
      "source": [
        "2. Create a Python function that accepts a string and returns the reverse of that string?\n"
      ],
      "metadata": {
        "id": "yLAYB3-7einq"
      }
    },
    {
      "cell_type": "code",
      "source": [
        "#Python Function to Reverse a String\n",
        "def reverse_string(text):\n",
        "    return text[::-1]   # slicing method\n",
        "\n",
        "# Example usage\n",
        "print(reverse_string(\"Python\"))   # Output: nohtyP\n",
        "\n",
        "#Alternative Method (using loop)\n",
        "def reverse_string(text):\n",
        "    reversed_text = \"\"\n",
        "    for char in text:\n",
        "        reversed_text = char + reversed_text\n",
        "    return reversed_text\n",
        "\n",
        "print(reverse_string(\"Python\"))   # Output: nohtyP\n"
      ],
      "metadata": {
        "colab": {
          "base_uri": "https://localhost:8080/"
        },
        "id": "jqUT1PQPevEe",
        "outputId": "cb752361-d609-4d17-b6f1-a3dad2fc41e2"
      },
      "execution_count": 1,
      "outputs": [
        {
          "output_type": "stream",
          "name": "stdout",
          "text": [
            "nohtyP\n",
            "nohtyP\n"
          ]
        }
      ]
    },
    {
      "cell_type": "markdown",
      "source": [
        "3. Implement a Python function that takes a list of integers and returns a new list containing the squares of\n",
        "each number?"
      ],
      "metadata": {
        "id": "1RKZZz9_fFUu"
      }
    },
    {
      "cell_type": "code",
      "source": [
        "#Function to Return Squares of Numbers in a List\n",
        "# Method 1: Using a Loop\n",
        "def square_list(numbers):\n",
        "    squares = []\n",
        "    for num in numbers:\n",
        "        squares.append(num * num)\n",
        "    return squares\n",
        "\n",
        "# Example usage\n",
        "nums = [1, 2, 3, 4, 5]\n",
        "print(square_list(nums))   # Output: [1, 4, 9, 16, 25]\n",
        "\n",
        "#Method 2: Using List Comprehension (shorter way)\n",
        "def square_list(numbers):\n",
        "    return [num * num for num in numbers]\n",
        "\n",
        "print(square_list([1, 2, 3, 4, 5]))   # Output: [1, 4, 9, 16, 25]\n",
        "\n",
        "#Method 3: Using map() + lambda\n",
        "def square_list(numbers):\n",
        "    return list(map(lambda x: x * x, numbers))\n",
        "\n",
        "print(square_list([1, 2, 3, 4, 5]))   # Output: [1, 4, 9, 16, 25]\n"
      ],
      "metadata": {
        "id": "O6SN208LfQ2v"
      },
      "execution_count": null,
      "outputs": []
    },
    {
      "cell_type": "markdown",
      "source": [
        "4. Write a Python function that checks if a given number is prime or not from 1 to 200?"
      ],
      "metadata": {
        "id": "_BF9e03xflxe"
      }
    },
    {
      "cell_type": "code",
      "source": [
        "#Python Function to Check Prime Numbers\n",
        "def is_prime(n):\n",
        "    if n <= 1:\n",
        "        return False   # 0 and 1 are not prime\n",
        "    for i in range(2, int(n**0.5) + 1):  # check divisors up to sqrt(n)\n",
        "        if n % i == 0:\n",
        "            return False\n",
        "    return True\n",
        "\n",
        "# Example usage: Check numbers from 1 to 200\n",
        "for num in range(1, 201):\n",
        "    if is_prime(num):\n",
        "        print(num, \"is Prime\")\n"
      ],
      "metadata": {
        "id": "N4Yz6Y6qfpSO"
      },
      "execution_count": null,
      "outputs": []
    },
    {
      "cell_type": "markdown",
      "source": [
        "5. Create an iterator class in Python that generates the Fibonacci sequence up to a specified number of\n",
        "terms?\n"
      ],
      "metadata": {
        "id": "_2lOm_wTf0Hj"
      }
    },
    {
      "cell_type": "code",
      "source": [
        "#Fibonacci Iterator Class\n",
        "class FibonacciIterator:\n",
        "    def __init__(self, n_terms):\n",
        "        self.n_terms = n_terms   # how many terms to generate\n",
        "        self.count = 0           # counter\n",
        "        self.a, self.b = 0, 1    # first two Fibonacci numbers\n",
        "\n",
        "    def __iter__(self):\n",
        "        return self\n",
        "\n",
        "    def __next__(self):\n",
        "        if self.count < self.n_terms:\n",
        "            if self.count == 0:\n",
        "                self.count += 1\n",
        "                return self.a\n",
        "            elif self.count == 1:\n",
        "                self.count += 1\n",
        "                return self.b\n",
        "            else:\n",
        "                self.a, self.b = self.b, self.a + self.b\n",
        "                self.count += 1\n",
        "                return self.b\n",
        "        else:\n",
        "            raise StopIteration   # stop when terms are finished\n"
      ],
      "metadata": {
        "id": "4nhdiawLf6pe"
      },
      "execution_count": null,
      "outputs": []
    },
    {
      "cell_type": "markdown",
      "source": [
        "6. Write a generator function in Python that yields the powers of 2 up to a given exponent?"
      ],
      "metadata": {
        "id": "Y2Q6W18TgFoq"
      }
    },
    {
      "cell_type": "code",
      "source": [
        "#Generator Function for Powers of 2\n",
        "def powers_of_two(max_exp):\n",
        "    for i in range(max_exp + 1):\n",
        "        yield 2 ** i   # yield powers of 2\n",
        "#Example\n",
        "for value in powers_of_two(5):\n",
        "    print(value)\n"
      ],
      "metadata": {
        "id": "vrv9VuqjgJUm"
      },
      "execution_count": null,
      "outputs": []
    },
    {
      "cell_type": "markdown",
      "source": [
        "7. Implement a generator function that reads a file line by line and yields each line as a string?"
      ],
      "metadata": {
        "id": "LKCqwS0ygYuW"
      }
    },
    {
      "cell_type": "code",
      "source": [
        "#Generator Function to Read File Line by Line\n",
        "def read_file_line_by_line(file_path):\n",
        "    with open(file_path, 'r') as file:\n",
        "        for line in file:\n",
        "            yield line.strip()   # strip() removes newline characters\n",
        "#Example\n",
        " for line in read_file_line_by_line(\"example.txt\"):\n",
        "    print(line)\n"
      ],
      "metadata": {
        "id": "34Y3hDK7gcUy"
      },
      "execution_count": null,
      "outputs": []
    },
    {
      "cell_type": "markdown",
      "source": [
        "8. Use a lambda function in Python to sort a list of tuples based on the second element of each tuple?"
      ],
      "metadata": {
        "id": "uBfdJZ1fgyI6"
      }
    },
    {
      "cell_type": "code",
      "source": [
        "#Sort Tuples by Second Element using lambda\n",
        "# Sample list of tuples\n",
        "data = [(1, 5), (3, 1), (4, 7), (2, 3)]\n",
        "\n",
        "# Sort using lambda (based on second element)\n",
        "sorted_data = sorted(data, key=lambda x: x[1])\n",
        "\n",
        "print(sorted_data)\n"
      ],
      "metadata": {
        "colab": {
          "base_uri": "https://localhost:8080/"
        },
        "id": "6dfm5qT6g3G6",
        "outputId": "61ad4515-77b6-465a-f302-6b11c062553d"
      },
      "execution_count": 2,
      "outputs": [
        {
          "output_type": "stream",
          "name": "stdout",
          "text": [
            "[(3, 1), (2, 3), (1, 5), (4, 7)]\n"
          ]
        }
      ]
    },
    {
      "cell_type": "markdown",
      "source": [
        "9. Write a Python program that uses `map()` to convert a list of temperatures from Celsius to Fahrenheit?"
      ],
      "metadata": {
        "id": "dO-E9TvzhBh3"
      }
    },
    {
      "cell_type": "code",
      "source": [
        "#Celsius → Fahrenheit using map()\n",
        "#F=59​×C+32\n",
        "# List of temperatures in Celsius\n",
        "celsius = [0, 20, 37, 100]\n",
        "\n",
        "# Convert using map() and lambda\n",
        "fahrenheit = list(map(lambda c: (9/5) * c + 32, celsius))\n",
        "\n",
        "print(\"Celsius:\", celsius)\n",
        "print(\"Fahrenheit:\", fahrenheit)\n"
      ],
      "metadata": {
        "colab": {
          "base_uri": "https://localhost:8080/"
        },
        "id": "BCnWGxFghGCt",
        "outputId": "b9edc7db-2b54-4482-ce7e-681f3b64fc31"
      },
      "execution_count": 3,
      "outputs": [
        {
          "output_type": "stream",
          "name": "stdout",
          "text": [
            "Celsius: [0, 20, 37, 100]\n",
            "Fahrenheit: [32.0, 68.0, 98.60000000000001, 212.0]\n"
          ]
        }
      ]
    },
    {
      "cell_type": "markdown",
      "source": [
        "10. Create a Python program that uses `filter()` to remove all the vowels from a given string?"
      ],
      "metadata": {
        "id": "ohPnC1mMhViF"
      }
    },
    {
      "cell_type": "code",
      "source": [
        "#Remove Vowels Using filter()\n",
        "def remove_vowels(text):\n",
        "    vowels = \"aeiouAEIOU\"\n",
        "    # Keep only characters that are NOT vowels\n",
        "    result = ''.join(filter(lambda ch: ch not in vowels, text))\n",
        "    return result\n",
        "\n",
        "\n",
        "# Example usage\n",
        "string = \"Hello World, Python is Fun!\"\n",
        "print(remove_vowels(string))\n"
      ],
      "metadata": {
        "colab": {
          "base_uri": "https://localhost:8080/"
        },
        "id": "yrzJmGWchbDP",
        "outputId": "b8e330d4-d5b7-48d2-9e9d-af2ba3a638df"
      },
      "execution_count": 4,
      "outputs": [
        {
          "output_type": "stream",
          "name": "stdout",
          "text": [
            "Hll Wrld, Pythn s Fn!\n"
          ]
        }
      ]
    }
  ]
}